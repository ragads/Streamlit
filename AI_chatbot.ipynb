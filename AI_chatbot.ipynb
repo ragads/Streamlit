{
  "nbformat": 4,
  "nbformat_minor": 0,
  "metadata": {
    "colab": {
      "provenance": []
    },
    "kernelspec": {
      "name": "python3",
      "display_name": "Python 3"
    },
    "language_info": {
      "name": "python"
    }
  },
  "cells": [
    {
      "cell_type": "code",
      "execution_count": null,
      "metadata": {
        "colab": {
          "base_uri": "https://localhost:8080/"
        },
        "id": "RxZl37Y-u955",
        "outputId": "d5415f27-6033-4120-b570-e31d3057172c"
      },
      "outputs": [
        {
          "output_type": "stream",
          "name": "stdout",
          "text": [
            "ChatGPT-like bot: Type 'exit' to end the chat.\n",
            "You: what is AI\n",
            "AI: **Artificial Intelligence (AI)** is the simulation of human intelligence processes by machines, enabling them to perform tasks that typic\n",
            "You: what is NLP?\n",
            "AI: **Natural Language Processing (NLP)** is a branch of **Artificial Intelligence (AI)** focused on enabling machines to understand, interpret, and generate human language. By combining computational linguistics with machine learning, NLP allows computers to interact with text or speech in ways that mimic human communication.\n",
            "\n",
            "### Key Applications:\n",
            "- **Translation** (e.g., Google Translate)  \n",
            "- **Chatbots & Virtual Assistants** (Siri, Alexa, customer service bots)  \n",
            "- **Sentiment Analysis** (analyzing social media or reviews)  \n",
            "- **Text Summarization** (condensing long articles)  \n",
            "- **Spam Detection** (filtering emails)  \n",
            "\n",
            "### How It Works:\n",
            "NLP breaks down language into components (words, phrases) and uses techniques like **tokenization**, **syntax parsing**, and **semantic analysis**. Modern systems rely on **machine learning models** (e.g., neural networks, transformers like GPT or BERT) trained on vast language data to grasp context, intent, and nuances.\n",
            "\n",
            "For example, when you ask a voice assistant, *\"What's the weather today?\"* NLP processes your speech, deciphers the request, and triggers an actionable response.\n",
            "\n",
            "Let me know if you’d like deeper insights into specific techniques or use cases! 😊\n"
          ]
        }
      ],
      "source": [
        "from openai import OpenAI\n",
        "\n",
        "def chat_with_ai():\n",
        "    client = OpenAI(\n",
        "        base_url=\"https://openrouter.ai/api/v1\",\n",
        "        api_key=\"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\",\n",
        "    )\n",
        "\n",
        "    conversation_history = []  # Stores chat history\n",
        "    print(\"ChatGPT-like bot: Type 'exit' to end the chat.\")\n",
        "\n",
        "    while True:\n",
        "        user_input = input(\"You: \")\n",
        "        if user_input.lower() == \"exit\":\n",
        "            break\n",
        "\n",
        "        conversation_history.append({\"role\": \"user\", \"content\": user_input})\n",
        "\n",
        "        try:\n",
        "            completion = client.chat.completions.create(\n",
        "                extra_headers={\n",
        "                    \"HTTP-Referer\": \"<YOUR_SITE_URL>\",\n",
        "                    \"X-Title\": \"<YOUR_SITE_NAME>\",\n",
        "                },\n",
        "                model=\"deepseek/deepseek-r1:free\",\n",
        "                messages=conversation_history,\n",
        "                stream=True  # Enables real-time response streaming\n",
        "            )\n",
        "\n",
        "            print(\"AI:\", end=\" \")\n",
        "            response_text = \"\"\n",
        "            for chunk in completion:\n",
        "                if chunk.choices and chunk.choices[0].delta and hasattr(chunk.choices[0].delta, 'content'):\n",
        "                    text = chunk.choices[0].delta.content\n",
        "                    print(text, end=\"\", flush=True)\n",
        "                    response_text += text\n",
        "            print()\n",
        "\n",
        "            conversation_history.append({\"role\": \"assistant\", \"content\": response_text})\n",
        "\n",
        "        except Exception as e:\n",
        "            print(\"Error:\", e)\n",
        "\n",
        "if __name__ == \"__main__\":\n",
        "    chat_with_ai()\n"
      ]
    }
  ]
}